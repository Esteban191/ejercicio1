{
  "nbformat": 4,
  "nbformat_minor": 0,
  "metadata": {
    "colab": {
      "name": "Untitled2.ipynb",
      "provenance": [],
      "authorship_tag": "ABX9TyNMiwlwtnshOHg7r7IOX/CH",
      "include_colab_link": true
    },
    "kernelspec": {
      "name": "python3",
      "display_name": "Python 3"
    },
    "language_info": {
      "name": "python"
    }
  },
  "cells": [
    {
      "cell_type": "markdown",
      "metadata": {
        "id": "view-in-github",
        "colab_type": "text"
      },
      "source": [
        "<a href=\"https://colab.research.google.com/github/Esteban191/ejercicio1/blob/master/python_analitycs.ipynb\" target=\"_parent\"><img src=\"https://colab.research.google.com/assets/colab-badge.svg\" alt=\"Open In Colab\"/></a>"
      ]
    },
    {
      "cell_type": "code",
      "metadata": {
        "id": "ZAS2NN_Jy2S-"
      },
      "source": [
        "\n",
        "import pandas\n",
        "import pandas as pd\n",
        "from pandas_datareader import data as pandas_datareader\n",
        "import fix_yahoo_finance as yf\n",
        "\n",
        "%matplotlib notebook\n",
        "%matplotlib inline\n",
        "import matplotlib.pyplot as plt\n",
        "import matplotlib as mpl\n",
        "\n",
        "\n",
        "\n",
        "\n",
        "\n",
        "\n"
      ],
      "execution_count": 126,
      "outputs": []
    },
    {
      "cell_type": "code",
      "metadata": {
        "colab": {
          "base_uri": "https://localhost:8080/"
        },
        "id": "IAyTitI_zj-h",
        "outputId": "44dcd4cf-20b9-4d64-a568-bd7b848db890"
      },
      "source": [
        "#fb = pd.DataFrame.from_dict('../data/facebook.csv')\n",
        "ms=pd.DataFrame.from_records(\" ..data/microsoft.csv\")\n",
        "fb=pd.DataFrame.from_records(\" data/facebook.csv\")\n",
        "fb.head()\n",
        "\n",
        "\n",
        "print(fb.iloc[0, 0])\n",
        "#print(type(fb))"
      ],
      "execution_count": 109,
      "outputs": [
        {
          "output_type": "stream",
          "text": [
            " \n"
          ],
          "name": "stdout"
        }
      ]
    },
    {
      "cell_type": "code",
      "metadata": {
        "id": "Eb1isb9cCQtq"
      },
      "source": [
        "df=pd.DataFrame(data=[[174.73,176.19],[1096.04,1051.19],[77.88,79.08],[164.52,165.78]],\n",
        "                columns=[\"close\",\"High\",],\n",
        "                index =[\"apple\",\"google\",\"microsoft\",\"facebook\"]\n",
        "\n",
        "                \n",
        ")\n",
        "df\n",
        "df.index[0]\n",
        "df.index[-1]\n",
        "df.columns\n",
        "df.shape\n",
        "fb.tail()\n"
      ],
      "execution_count": null,
      "outputs": []
    },
    {
      "cell_type": "code",
      "metadata": {
        "id": "DWQSJLChKM4c"
      },
      "source": [
        ""
      ],
      "execution_count": null,
      "outputs": []
    },
    {
      "cell_type": "code",
      "metadata": {
        "colab": {
          "base_uri": "https://localhost:8080/",
          "height": 173
        },
        "id": "qd8SK41JJzXn",
        "outputId": "1b82b7f9-5301-4191-ab9d-389d370383e3"
      },
      "source": [
        "df"
      ],
      "execution_count": 129,
      "outputs": [
        {
          "output_type": "execute_result",
          "data": {
            "text/html": [
              "<div>\n",
              "<style scoped>\n",
              "    .dataframe tbody tr th:only-of-type {\n",
              "        vertical-align: middle;\n",
              "    }\n",
              "\n",
              "    .dataframe tbody tr th {\n",
              "        vertical-align: top;\n",
              "    }\n",
              "\n",
              "    .dataframe thead th {\n",
              "        text-align: right;\n",
              "    }\n",
              "</style>\n",
              "<table border=\"1\" class=\"dataframe\">\n",
              "  <thead>\n",
              "    <tr style=\"text-align: right;\">\n",
              "      <th></th>\n",
              "      <th>close</th>\n",
              "      <th>High</th>\n",
              "    </tr>\n",
              "  </thead>\n",
              "  <tbody>\n",
              "    <tr>\n",
              "      <th>apple</th>\n",
              "      <td>174.73</td>\n",
              "      <td>176.19</td>\n",
              "    </tr>\n",
              "    <tr>\n",
              "      <th>google</th>\n",
              "      <td>1096.04</td>\n",
              "      <td>1051.19</td>\n",
              "    </tr>\n",
              "    <tr>\n",
              "      <th>microsoft</th>\n",
              "      <td>77.88</td>\n",
              "      <td>79.08</td>\n",
              "    </tr>\n",
              "    <tr>\n",
              "      <th>facebook</th>\n",
              "      <td>164.52</td>\n",
              "      <td>165.78</td>\n",
              "    </tr>\n",
              "  </tbody>\n",
              "</table>\n",
              "</div>"
            ],
            "text/plain": [
              "             close     High\n",
              "apple       174.73   176.19\n",
              "google     1096.04  1051.19\n",
              "microsoft    77.88    79.08\n",
              "facebook    164.52   165.78"
            ]
          },
          "metadata": {
            "tags": []
          },
          "execution_count": 129
        }
      ]
    },
    {
      "cell_type": "code",
      "metadata": {
        "id": "C_i7HSSDJ5PE"
      },
      "source": [
        "df.describe"
      ],
      "execution_count": null,
      "outputs": []
    },
    {
      "cell_type": "code",
      "metadata": {
        "id": "qa5L6X7vFdVf"
      },
      "source": [
        "                 Open       High        Low      Close  Adj Close   Volume\n",
        "Date                                                                      \n",
        "2014-12-31  20.400000  20.510000  19.990000  20.049999  19.459270  4157500\n",
        "2015-01-02  20.129999  20.280001  19.809999  20.129999  19.536913  2842000\n",
        "2015-01-05  20.129999  20.190001  19.700001  19.790001  19.206934  4948800\n",
        "2015-01-06  19.820000  19.840000  19.170000  19.190001  18.624611  4944100\n",
        "2015-01-07  19.330000  19.500000  19.080000  19.139999  18.576082  8045200"
      ],
      "execution_count": null,
      "outputs": []
    },
    {
      "cell_type": "code",
      "metadata": {
        "colab": {
          "base_uri": "https://localhost:8080/",
          "height": 282
        },
        "id": "_i6dsBecEw3R",
        "outputId": "f435295d-1222-47bf-d8fa-0f5963a2e04f"
      },
      "source": [
        "df.loc[\"google\",\"High\"]#llamr en dataframe a una posisciom con psisiocnes y nuemros\n",
        "df.loc[\"google\",\"High\"]\n",
        "df.loc[\"apple\":\"facebook\",\"close\"].plot()\n",
        "\n"
      ],
      "execution_count": 128,
      "outputs": [
        {
          "output_type": "execute_result",
          "data": {
            "text/plain": [
              "<matplotlib.axes._subplots.AxesSubplot at 0x7f052d880750>"
            ]
          },
          "metadata": {
            "tags": []
          },
          "execution_count": 128
        },
        {
          "output_type": "display_data",
          "data": {
            "image/png": "[encoded data removed]",
            "text/plain": [
              "<Figure size 432x288 with 1 Axes>"
            ]
          },
          "metadata": {
            "tags": [],
            "needs_background": "light"
          }
        }
      ]
    }
  ]
}